{
 "cells": [
  {
   "cell_type": "markdown",
   "metadata": {},
   "source": [
    "## Question 2: For this question you’ll need to use SQL. Follow this [link](https://www.w3schools.com/SQL/TRYSQL.ASP?FILENAME=TRYSQL_SELECT_ALL) to access the data set required for the challenge. Please use queries to answer the following questions. Paste your queries along with your final numerical answers below.\n",
    "\n",
    "- 1. How many orders were shipped by Speedy Express in total?\n",
    "- 2. What is the last name of the employee with the most orders?\n",
    "- 3. What product was ordered the most by customers in Germany?\n",
    "\n"
   ]
  },
  {
   "cell_type": "markdown",
   "metadata": {},
   "source": [
    "### Q1"
   ]
  },
  {
   "cell_type": "code",
   "execution_count": null,
   "metadata": {},
   "outputs": [],
   "source": [
    "SELECT Count(*) FROM Orders\n",
    "\tLEFT JOIN Shippers ON Orders.ShipperID = Shippers.ShipperID\n",
    "    WHERE ShipperName = \"Speedy Express\";"
   ]
  },
  {
   "cell_type": "code",
   "execution_count": null,
   "metadata": {},
   "outputs": [],
   "source": [
    "54"
   ]
  },
  {
   "cell_type": "markdown",
   "metadata": {},
   "source": [
    "### Q2"
   ]
  },
  {
   "cell_type": "code",
   "execution_count": null,
   "metadata": {},
   "outputs": [],
   "source": [
    "SELECT Employees.LastName FROM Orders\n",
    "\tLEFT JOIN Employees ON Orders.EmployeeID = Employees.EmployeeID\n",
    "    GROUP BY Orders.EmployeeID\n",
    "    ORDER BY COUNT(*) DESC\n",
    "    LIMIT 1;"
   ]
  },
  {
   "cell_type": "code",
   "execution_count": null,
   "metadata": {},
   "outputs": [],
   "source": [
    "Peacock"
   ]
  },
  {
   "cell_type": "markdown",
   "metadata": {},
   "source": [
    "### Q3"
   ]
  },
  {
   "cell_type": "code",
   "execution_count": null,
   "metadata": {},
   "outputs": [],
   "source": [
    "SELECT Products.ProductName FROM OrderDetails\n",
    "\tLEFT JOIN Orders ON Orders.OrderID = OrderDetails.OrderID\n",
    "    LEFT JOIN Products ON Products.ProductID = OrderDetails.ProductID\n",
    "    LEFT JOIN Customers ON Customers.CustomerID = Orders.CustomerID\n",
    "    WHERE Customers.Country = \"Germany\"\n",
    "    GROUP BY OrderDetails.ProductID\n",
    "    ORDER BY COUNT(*) DESC\n",
    "    LIMIT 1;"
   ]
  },
  {
   "cell_type": "code",
   "execution_count": null,
   "metadata": {},
   "outputs": [],
   "source": [
    "Gorgonzola Telino"
   ]
  }
 ],
 "metadata": {
  "kernelspec": {
   "display_name": "Python 3",
   "language": "python",
   "name": "python3"
  },
  "language_info": {
   "codemirror_mode": {
    "name": "ipython",
    "version": 3
   },
   "file_extension": ".py",
   "mimetype": "text/x-python",
   "name": "python",
   "nbconvert_exporter": "python",
   "pygments_lexer": "ipython3",
   "version": "3.7.4"
  }
 },
 "nbformat": 4,
 "nbformat_minor": 2
}
